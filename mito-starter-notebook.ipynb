{
 "cells": [
  {
   "cell_type": "code",
   "execution_count": 2,
   "id": "c0957234-ba57-4199-adfa-9d17ede0b8f9",
   "metadata": {},
   "outputs": [
    {
     "data": {
      "application/vnd.jupyter.widget-view+json": {
       "model_id": "ba7108540c5f4827a9a5c3ae8895e0e3",
       "version_major": 2,
       "version_minor": 0
      },
      "text/plain": [
       "MitoWidget(analysis_data_json='{\"analysisName\": \"UUID-90424017-9484-4c1e-bed2-2e54fa7bb5ad\", \"code\": {\"imports…"
      ]
     },
     "metadata": {},
     "output_type": "display_data"
    }
   ],
   "source": [
    "# Run this cell to render a mitosheet\n",
    "# See mito's documentation here: https://docs.trymito.io/how-to/creating-a-mitosheet\n",
    "# Join our Discord for support here: https://discord.gg/XdJSZyejJU\n",
    "\n",
    "import mitosheet\n",
    "mitosheet.sheet()"
   ]
  },
  {
   "cell_type": "code",
   "execution_count": null,
   "id": "918a4a8e-d323-46eb-87a2-d26ac51b428c",
   "metadata": {},
   "outputs": [],
   "source": [
    "# MITO CODE START (DO NOT EDIT)\n",
    "\n",
    "from mitosheet import * # Import necessary functions from Mito\n",
    "register_analysis('UUID-90424017-9484-4c1e-bed2-2e54fa7bb5ad') # Let Mito know which analysis is being run\n",
    "\n",
    "# Imported D:\\01_Projects\\End-to-End-ML\\Model_building\\Dataset\\train.csv\n",
    "import pandas as pd\n",
    "train_csv = pd.read_csv(r'D:\\01_Projects\\End-to-End-ML\\Model_building\\Dataset\\train.csv')\n",
    "\n",
    "# Deleted column PassengerId from train_csv\n",
    "train_csv.drop('PassengerId', axis=1, inplace=True)\n",
    "\n",
    "# Pivoted train_csv into df2\n",
    "unused_columns = train_csv.columns.difference(set(['Pclass']).union(set(['Survived'])).union(set({'Fare'})))\n",
    "tmp_df = train_csv.drop(unused_columns, axis=1)\n",
    "pivot_table = tmp_df.pivot_table(\n",
    "    index=['Pclass'],\n",
    "    columns=['Survived'],\n",
    "    values=['Fare'],\n",
    "    aggfunc={'Fare': ['count']}\n",
    ")\n",
    "\n",
    "# Flatten the column headers\n",
    "pivot_table.columns = [flatten_column_header(col) for col in pivot_table.columns.values]\n",
    "\n",
    "# Reset the column name and the indexes\n",
    "df2 = pivot_table.reset_index()\n",
    "\n",
    "# Added column new-column-bda3 to train_csv\n",
    "train_csv.insert(1, 'new-column-bda3', 0)\n",
    "\n",
    "# Added column new-column-830q to train_csv\n",
    "train_csv.insert(3, 'new-column-830q', 0)\n",
    "\n",
    "# Set new-column-830q in train_csv to Name\n",
    "train_csv['new-column-830q'] = train_csv['Name']\n",
    "\n",
    "  \n",
    "# MITO CODE END (DO NOT EDIT)"
   ]
  },
  {
   "cell_type": "code",
   "execution_count": null,
   "id": "69d38f94-2009-4c0a-8da4-c1e1fb377397",
   "metadata": {},
   "outputs": [],
   "source": [
    "# Import plotly and create a figure\n",
    "import plotly.graph_objects as go\n",
    "fig = go.Figure()\n",
    "\n",
    "\n",
    "\n",
    "# Add the bar chart traces to the graph\n",
    "for column_header in ['Fare count 1', 'Fare count 0']:\n",
    "    fig.add_trace(\n",
    "        go.Bar( \n",
    "            x=df2[Pclass'],\n",
    "            y=df2[column_header],\n",
    "            name=column_header\n",
    "        )\n",
    "    )\n",
    "\n",
    "# Update the title and stacking mode of the graph\n",
    "# See Plotly documentation for customizations: https://plotly.com/python/reference/bar/\n",
    "fig.update_layout(\n",
    "    xaxis_title='Pclass',\n",
    "    yaxis_title='',\n",
    "    title='Pclass, Fare count 1, Fare count 0 bar chart',\n",
    "    barmode='group',\n",
    ")\n",
    "fig.show(renderer=\"iframe\")"
   ]
  },
  {
   "cell_type": "code",
   "execution_count": null,
   "id": "a331eccc-682c-46dd-af5a-766b06ab6567",
   "metadata": {},
   "outputs": [],
   "source": []
  },
  {
   "cell_type": "code",
   "execution_count": null,
   "id": "4c537fca-f620-4573-a4f3-513a197ef0b2",
   "metadata": {},
   "outputs": [],
   "source": []
  },
  {
   "cell_type": "code",
   "execution_count": null,
   "id": "14f1bbf3-75ff-4a21-b54f-1e2fa0d54793",
   "metadata": {},
   "outputs": [],
   "source": []
  },
  {
   "cell_type": "code",
   "execution_count": null,
   "id": "8552e5e7-ce9a-40e6-ab0f-22ca65b6ba18",
   "metadata": {},
   "outputs": [],
   "source": []
  }
 ],
 "metadata": {
  "kernelspec": {
   "display_name": "Python 3 (ipykernel)",
   "language": "python",
   "name": "python3"
  },
  "language_info": {
   "codemirror_mode": {
    "name": "ipython",
    "version": 3
   },
   "file_extension": ".py",
   "mimetype": "text/x-python",
   "name": "python",
   "nbconvert_exporter": "python",
   "pygments_lexer": "ipython3",
   "version": "3.9.7"
  },
  "widgets": {
   "application/vnd.jupyter.widget-state+json": {
    "state": {},
    "version_major": 2,
    "version_minor": 0
   }
  }
 },
 "nbformat": 4,
 "nbformat_minor": 5
}
